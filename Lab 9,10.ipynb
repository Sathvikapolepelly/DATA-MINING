{
  "nbformat": 4,
  "nbformat_minor": 0,
  "metadata": {
    "colab": {
      "provenance": [],
      "authorship_tag": "ABX9TyOCSAxqBbMmBPYG/33OALeV",
      "include_colab_link": true
    },
    "kernelspec": {
      "name": "python3",
      "display_name": "Python 3"
    },
    "language_info": {
      "name": "python"
    }
  },
  "cells": [
    {
      "cell_type": "markdown",
      "metadata": {
        "id": "view-in-github",
        "colab_type": "text"
      },
      "source": [
        "<a href=\"https://colab.research.google.com/github/Sathvikapolepelly/DATA-MINING/blob/main/Lab%209%2C10.ipynb\" target=\"_parent\"><img src=\"https://colab.research.google.com/assets/colab-badge.svg\" alt=\"Open In Colab\"/></a>"
      ]
    },
    {
      "cell_type": "code",
      "execution_count": 1,
      "metadata": {
        "id": "AgTHb8-Nzz1B"
      },
      "outputs": [],
      "source": [
        "import numpy as np\n",
        "import matplotlib.pyplot as plt\n",
        "from sklearn.preprocessing import PolynomialFeatures\n",
        "from sklearn.linear_model import LinearRegression\n",
        "from sklearn.metrics import mean_squared_error"
      ]
    },
    {
      "cell_type": "code",
      "source": [
        "np.random.seed(42)\n",
        "X = np.linspace(0, 10, 50).reshape(-1, 1)\n",
        "y = 2 + 3 * X - 0.5 * X**2 + np.random.normal(0, 1, X.shape)"
      ],
      "metadata": {
        "id": "PNzVoh_R0BcX"
      },
      "execution_count": 2,
      "outputs": []
    },
    {
      "cell_type": "code",
      "source": [
        "y"
      ],
      "metadata": {
        "colab": {
          "base_uri": "https://localhost:8080/"
        },
        "id": "1llatDAf0Ixm",
        "outputId": "99a34b8f-ad64-4eaf-b177-f270ce396294"
      },
      "execution_count": 3,
      "outputs": [
        {
          "output_type": "execute_result",
          "data": {
            "text/plain": [
              "array([[  2.49671415],\n",
              "       [  2.45315594],\n",
              "       [  3.78887971],\n",
              "       [  5.17234264],\n",
              "       [  3.88163171],\n",
              "       [  4.30647112],\n",
              "       [  6.50299457],\n",
              "       [  6.03274085],\n",
              "       [  5.09570679],\n",
              "       [  6.36596696],\n",
              "       [  5.57656565],\n",
              "       [  5.7491807 ],\n",
              "       [  6.59015053],\n",
              "       [  4.5265365 ],\n",
              "       [  4.76487809],\n",
              "       [  5.93583825],\n",
              "       [  5.45197521],\n",
              "       [  6.7040849 ],\n",
              "       [  5.36519542],\n",
              "       [  4.7026484 ],\n",
              "       [  7.38068417],\n",
              "       [  5.44769309],\n",
              "       [  5.45778227],\n",
              "       [  3.64064123],\n",
              "       [  4.15449274],\n",
              "       [  4.40163479],\n",
              "       [  2.68990605],\n",
              "       [  3.72513575],\n",
              "       [  2.21568784],\n",
              "       [  1.94987226],\n",
              "       [  1.02344957],\n",
              "       [  2.81937523],\n",
              "       [  0.25389136],\n",
              "       [ -1.53168011],\n",
              "       [ -0.43443135],\n",
              "       [ -3.3024763 ],\n",
              "       [ -2.73907476],\n",
              "       [ -5.8155635 ],\n",
              "       [ -6.13368376],\n",
              "       [ -5.59989012],\n",
              "       [ -6.09118773],\n",
              "       [ -7.7328383 ],\n",
              "       [ -9.13605645],\n",
              "       [-10.47936275],\n",
              "       [-12.85628126],\n",
              "       [-13.338753  ],\n",
              "       [-14.36234639],\n",
              "       [-14.16903354],\n",
              "       [-16.24863494],\n",
              "       [-19.76304016]])"
            ]
          },
          "metadata": {},
          "execution_count": 3
        }
      ]
    },
    {
      "cell_type": "code",
      "source": [
        "poly = PolynomialFeatures(degree=2)\n",
        "X_poly = poly.fit_transform(X)\n",
        "X_poly"
      ],
      "metadata": {
        "colab": {
          "base_uri": "https://localhost:8080/"
        },
        "id": "S1pRapSY0Kv0",
        "outputId": "f387aaaf-d8b5-458f-9a02-a166f17ad667"
      },
      "execution_count": 4,
      "outputs": [
        {
          "output_type": "execute_result",
          "data": {
            "text/plain": [
              "array([[1.00000000e+00, 0.00000000e+00, 0.00000000e+00],\n",
              "       [1.00000000e+00, 2.04081633e-01, 4.16493128e-02],\n",
              "       [1.00000000e+00, 4.08163265e-01, 1.66597251e-01],\n",
              "       [1.00000000e+00, 6.12244898e-01, 3.74843815e-01],\n",
              "       [1.00000000e+00, 8.16326531e-01, 6.66389005e-01],\n",
              "       [1.00000000e+00, 1.02040816e+00, 1.04123282e+00],\n",
              "       [1.00000000e+00, 1.22448980e+00, 1.49937526e+00],\n",
              "       [1.00000000e+00, 1.42857143e+00, 2.04081633e+00],\n",
              "       [1.00000000e+00, 1.63265306e+00, 2.66555602e+00],\n",
              "       [1.00000000e+00, 1.83673469e+00, 3.37359434e+00],\n",
              "       [1.00000000e+00, 2.04081633e+00, 4.16493128e+00],\n",
              "       [1.00000000e+00, 2.24489796e+00, 5.03956685e+00],\n",
              "       [1.00000000e+00, 2.44897959e+00, 5.99750104e+00],\n",
              "       [1.00000000e+00, 2.65306122e+00, 7.03873386e+00],\n",
              "       [1.00000000e+00, 2.85714286e+00, 8.16326531e+00],\n",
              "       [1.00000000e+00, 3.06122449e+00, 9.37109538e+00],\n",
              "       [1.00000000e+00, 3.26530612e+00, 1.06622241e+01],\n",
              "       [1.00000000e+00, 3.46938776e+00, 1.20366514e+01],\n",
              "       [1.00000000e+00, 3.67346939e+00, 1.34943773e+01],\n",
              "       [1.00000000e+00, 3.87755102e+00, 1.50354019e+01],\n",
              "       [1.00000000e+00, 4.08163265e+00, 1.66597251e+01],\n",
              "       [1.00000000e+00, 4.28571429e+00, 1.83673469e+01],\n",
              "       [1.00000000e+00, 4.48979592e+00, 2.01582674e+01],\n",
              "       [1.00000000e+00, 4.69387755e+00, 2.20324865e+01],\n",
              "       [1.00000000e+00, 4.89795918e+00, 2.39900042e+01],\n",
              "       [1.00000000e+00, 5.10204082e+00, 2.60308205e+01],\n",
              "       [1.00000000e+00, 5.30612245e+00, 2.81549354e+01],\n",
              "       [1.00000000e+00, 5.51020408e+00, 3.03623490e+01],\n",
              "       [1.00000000e+00, 5.71428571e+00, 3.26530612e+01],\n",
              "       [1.00000000e+00, 5.91836735e+00, 3.50270721e+01],\n",
              "       [1.00000000e+00, 6.12244898e+00, 3.74843815e+01],\n",
              "       [1.00000000e+00, 6.32653061e+00, 4.00249896e+01],\n",
              "       [1.00000000e+00, 6.53061224e+00, 4.26488963e+01],\n",
              "       [1.00000000e+00, 6.73469388e+00, 4.53561016e+01],\n",
              "       [1.00000000e+00, 6.93877551e+00, 4.81466056e+01],\n",
              "       [1.00000000e+00, 7.14285714e+00, 5.10204082e+01],\n",
              "       [1.00000000e+00, 7.34693878e+00, 5.39775094e+01],\n",
              "       [1.00000000e+00, 7.55102041e+00, 5.70179092e+01],\n",
              "       [1.00000000e+00, 7.75510204e+00, 6.01416077e+01],\n",
              "       [1.00000000e+00, 7.95918367e+00, 6.33486047e+01],\n",
              "       [1.00000000e+00, 8.16326531e+00, 6.66389005e+01],\n",
              "       [1.00000000e+00, 8.36734694e+00, 7.00124948e+01],\n",
              "       [1.00000000e+00, 8.57142857e+00, 7.34693878e+01],\n",
              "       [1.00000000e+00, 8.77551020e+00, 7.70095793e+01],\n",
              "       [1.00000000e+00, 8.97959184e+00, 8.06330696e+01],\n",
              "       [1.00000000e+00, 9.18367347e+00, 8.43398584e+01],\n",
              "       [1.00000000e+00, 9.38775510e+00, 8.81299459e+01],\n",
              "       [1.00000000e+00, 9.59183673e+00, 9.20033319e+01],\n",
              "       [1.00000000e+00, 9.79591837e+00, 9.59600167e+01],\n",
              "       [1.00000000e+00, 1.00000000e+01, 1.00000000e+02]])"
            ]
          },
          "metadata": {},
          "execution_count": 4
        }
      ]
    },
    {
      "cell_type": "code",
      "source": [
        "model = LinearRegression()\n",
        "model.fit(X_poly, y)"
      ],
      "metadata": {
        "colab": {
          "base_uri": "https://localhost:8080/",
          "height": 80
        },
        "id": "zuCWNMT00NMJ",
        "outputId": "d81a97e5-5d08-48d1-cf38-d71def02e98e"
      },
      "execution_count": 5,
      "outputs": [
        {
          "output_type": "execute_result",
          "data": {
            "text/plain": [
              "LinearRegression()"
            ],
            "text/html": [
              "<style>#sk-container-id-1 {\n",
              "  /* Definition of color scheme common for light and dark mode */\n",
              "  --sklearn-color-text: #000;\n",
              "  --sklearn-color-text-muted: #666;\n",
              "  --sklearn-color-line: gray;\n",
              "  /* Definition of color scheme for unfitted estimators */\n",
              "  --sklearn-color-unfitted-level-0: #fff5e6;\n",
              "  --sklearn-color-unfitted-level-1: #f6e4d2;\n",
              "  --sklearn-color-unfitted-level-2: #ffe0b3;\n",
              "  --sklearn-color-unfitted-level-3: chocolate;\n",
              "  /* Definition of color scheme for fitted estimators */\n",
              "  --sklearn-color-fitted-level-0: #f0f8ff;\n",
              "  --sklearn-color-fitted-level-1: #d4ebff;\n",
              "  --sklearn-color-fitted-level-2: #b3dbfd;\n",
              "  --sklearn-color-fitted-level-3: cornflowerblue;\n",
              "\n",
              "  /* Specific color for light theme */\n",
              "  --sklearn-color-text-on-default-background: var(--sg-text-color, var(--theme-code-foreground, var(--jp-content-font-color1, black)));\n",
              "  --sklearn-color-background: var(--sg-background-color, var(--theme-background, var(--jp-layout-color0, white)));\n",
              "  --sklearn-color-border-box: var(--sg-text-color, var(--theme-code-foreground, var(--jp-content-font-color1, black)));\n",
              "  --sklearn-color-icon: #696969;\n",
              "\n",
              "  @media (prefers-color-scheme: dark) {\n",
              "    /* Redefinition of color scheme for dark theme */\n",
              "    --sklearn-color-text-on-default-background: var(--sg-text-color, var(--theme-code-foreground, var(--jp-content-font-color1, white)));\n",
              "    --sklearn-color-background: var(--sg-background-color, var(--theme-background, var(--jp-layout-color0, #111)));\n",
              "    --sklearn-color-border-box: var(--sg-text-color, var(--theme-code-foreground, var(--jp-content-font-color1, white)));\n",
              "    --sklearn-color-icon: #878787;\n",
              "  }\n",
              "}\n",
              "\n",
              "#sk-container-id-1 {\n",
              "  color: var(--sklearn-color-text);\n",
              "}\n",
              "\n",
              "#sk-container-id-1 pre {\n",
              "  padding: 0;\n",
              "}\n",
              "\n",
              "#sk-container-id-1 input.sk-hidden--visually {\n",
              "  border: 0;\n",
              "  clip: rect(1px 1px 1px 1px);\n",
              "  clip: rect(1px, 1px, 1px, 1px);\n",
              "  height: 1px;\n",
              "  margin: -1px;\n",
              "  overflow: hidden;\n",
              "  padding: 0;\n",
              "  position: absolute;\n",
              "  width: 1px;\n",
              "}\n",
              "\n",
              "#sk-container-id-1 div.sk-dashed-wrapped {\n",
              "  border: 1px dashed var(--sklearn-color-line);\n",
              "  margin: 0 0.4em 0.5em 0.4em;\n",
              "  box-sizing: border-box;\n",
              "  padding-bottom: 0.4em;\n",
              "  background-color: var(--sklearn-color-background);\n",
              "}\n",
              "\n",
              "#sk-container-id-1 div.sk-container {\n",
              "  /* jupyter's `normalize.less` sets `[hidden] { display: none; }`\n",
              "     but bootstrap.min.css set `[hidden] { display: none !important; }`\n",
              "     so we also need the `!important` here to be able to override the\n",
              "     default hidden behavior on the sphinx rendered scikit-learn.org.\n",
              "     See: https://github.com/scikit-learn/scikit-learn/issues/21755 */\n",
              "  display: inline-block !important;\n",
              "  position: relative;\n",
              "}\n",
              "\n",
              "#sk-container-id-1 div.sk-text-repr-fallback {\n",
              "  display: none;\n",
              "}\n",
              "\n",
              "div.sk-parallel-item,\n",
              "div.sk-serial,\n",
              "div.sk-item {\n",
              "  /* draw centered vertical line to link estimators */\n",
              "  background-image: linear-gradient(var(--sklearn-color-text-on-default-background), var(--sklearn-color-text-on-default-background));\n",
              "  background-size: 2px 100%;\n",
              "  background-repeat: no-repeat;\n",
              "  background-position: center center;\n",
              "}\n",
              "\n",
              "/* Parallel-specific style estimator block */\n",
              "\n",
              "#sk-container-id-1 div.sk-parallel-item::after {\n",
              "  content: \"\";\n",
              "  width: 100%;\n",
              "  border-bottom: 2px solid var(--sklearn-color-text-on-default-background);\n",
              "  flex-grow: 1;\n",
              "}\n",
              "\n",
              "#sk-container-id-1 div.sk-parallel {\n",
              "  display: flex;\n",
              "  align-items: stretch;\n",
              "  justify-content: center;\n",
              "  background-color: var(--sklearn-color-background);\n",
              "  position: relative;\n",
              "}\n",
              "\n",
              "#sk-container-id-1 div.sk-parallel-item {\n",
              "  display: flex;\n",
              "  flex-direction: column;\n",
              "}\n",
              "\n",
              "#sk-container-id-1 div.sk-parallel-item:first-child::after {\n",
              "  align-self: flex-end;\n",
              "  width: 50%;\n",
              "}\n",
              "\n",
              "#sk-container-id-1 div.sk-parallel-item:last-child::after {\n",
              "  align-self: flex-start;\n",
              "  width: 50%;\n",
              "}\n",
              "\n",
              "#sk-container-id-1 div.sk-parallel-item:only-child::after {\n",
              "  width: 0;\n",
              "}\n",
              "\n",
              "/* Serial-specific style estimator block */\n",
              "\n",
              "#sk-container-id-1 div.sk-serial {\n",
              "  display: flex;\n",
              "  flex-direction: column;\n",
              "  align-items: center;\n",
              "  background-color: var(--sklearn-color-background);\n",
              "  padding-right: 1em;\n",
              "  padding-left: 1em;\n",
              "}\n",
              "\n",
              "\n",
              "/* Toggleable style: style used for estimator/Pipeline/ColumnTransformer box that is\n",
              "clickable and can be expanded/collapsed.\n",
              "- Pipeline and ColumnTransformer use this feature and define the default style\n",
              "- Estimators will overwrite some part of the style using the `sk-estimator` class\n",
              "*/\n",
              "\n",
              "/* Pipeline and ColumnTransformer style (default) */\n",
              "\n",
              "#sk-container-id-1 div.sk-toggleable {\n",
              "  /* Default theme specific background. It is overwritten whether we have a\n",
              "  specific estimator or a Pipeline/ColumnTransformer */\n",
              "  background-color: var(--sklearn-color-background);\n",
              "}\n",
              "\n",
              "/* Toggleable label */\n",
              "#sk-container-id-1 label.sk-toggleable__label {\n",
              "  cursor: pointer;\n",
              "  display: flex;\n",
              "  width: 100%;\n",
              "  margin-bottom: 0;\n",
              "  padding: 0.5em;\n",
              "  box-sizing: border-box;\n",
              "  text-align: center;\n",
              "  align-items: start;\n",
              "  justify-content: space-between;\n",
              "  gap: 0.5em;\n",
              "}\n",
              "\n",
              "#sk-container-id-1 label.sk-toggleable__label .caption {\n",
              "  font-size: 0.6rem;\n",
              "  font-weight: lighter;\n",
              "  color: var(--sklearn-color-text-muted);\n",
              "}\n",
              "\n",
              "#sk-container-id-1 label.sk-toggleable__label-arrow:before {\n",
              "  /* Arrow on the left of the label */\n",
              "  content: \"▸\";\n",
              "  float: left;\n",
              "  margin-right: 0.25em;\n",
              "  color: var(--sklearn-color-icon);\n",
              "}\n",
              "\n",
              "#sk-container-id-1 label.sk-toggleable__label-arrow:hover:before {\n",
              "  color: var(--sklearn-color-text);\n",
              "}\n",
              "\n",
              "/* Toggleable content - dropdown */\n",
              "\n",
              "#sk-container-id-1 div.sk-toggleable__content {\n",
              "  max-height: 0;\n",
              "  max-width: 0;\n",
              "  overflow: hidden;\n",
              "  text-align: left;\n",
              "  /* unfitted */\n",
              "  background-color: var(--sklearn-color-unfitted-level-0);\n",
              "}\n",
              "\n",
              "#sk-container-id-1 div.sk-toggleable__content.fitted {\n",
              "  /* fitted */\n",
              "  background-color: var(--sklearn-color-fitted-level-0);\n",
              "}\n",
              "\n",
              "#sk-container-id-1 div.sk-toggleable__content pre {\n",
              "  margin: 0.2em;\n",
              "  border-radius: 0.25em;\n",
              "  color: var(--sklearn-color-text);\n",
              "  /* unfitted */\n",
              "  background-color: var(--sklearn-color-unfitted-level-0);\n",
              "}\n",
              "\n",
              "#sk-container-id-1 div.sk-toggleable__content.fitted pre {\n",
              "  /* unfitted */\n",
              "  background-color: var(--sklearn-color-fitted-level-0);\n",
              "}\n",
              "\n",
              "#sk-container-id-1 input.sk-toggleable__control:checked~div.sk-toggleable__content {\n",
              "  /* Expand drop-down */\n",
              "  max-height: 200px;\n",
              "  max-width: 100%;\n",
              "  overflow: auto;\n",
              "}\n",
              "\n",
              "#sk-container-id-1 input.sk-toggleable__control:checked~label.sk-toggleable__label-arrow:before {\n",
              "  content: \"▾\";\n",
              "}\n",
              "\n",
              "/* Pipeline/ColumnTransformer-specific style */\n",
              "\n",
              "#sk-container-id-1 div.sk-label input.sk-toggleable__control:checked~label.sk-toggleable__label {\n",
              "  color: var(--sklearn-color-text);\n",
              "  background-color: var(--sklearn-color-unfitted-level-2);\n",
              "}\n",
              "\n",
              "#sk-container-id-1 div.sk-label.fitted input.sk-toggleable__control:checked~label.sk-toggleable__label {\n",
              "  background-color: var(--sklearn-color-fitted-level-2);\n",
              "}\n",
              "\n",
              "/* Estimator-specific style */\n",
              "\n",
              "/* Colorize estimator box */\n",
              "#sk-container-id-1 div.sk-estimator input.sk-toggleable__control:checked~label.sk-toggleable__label {\n",
              "  /* unfitted */\n",
              "  background-color: var(--sklearn-color-unfitted-level-2);\n",
              "}\n",
              "\n",
              "#sk-container-id-1 div.sk-estimator.fitted input.sk-toggleable__control:checked~label.sk-toggleable__label {\n",
              "  /* fitted */\n",
              "  background-color: var(--sklearn-color-fitted-level-2);\n",
              "}\n",
              "\n",
              "#sk-container-id-1 div.sk-label label.sk-toggleable__label,\n",
              "#sk-container-id-1 div.sk-label label {\n",
              "  /* The background is the default theme color */\n",
              "  color: var(--sklearn-color-text-on-default-background);\n",
              "}\n",
              "\n",
              "/* On hover, darken the color of the background */\n",
              "#sk-container-id-1 div.sk-label:hover label.sk-toggleable__label {\n",
              "  color: var(--sklearn-color-text);\n",
              "  background-color: var(--sklearn-color-unfitted-level-2);\n",
              "}\n",
              "\n",
              "/* Label box, darken color on hover, fitted */\n",
              "#sk-container-id-1 div.sk-label.fitted:hover label.sk-toggleable__label.fitted {\n",
              "  color: var(--sklearn-color-text);\n",
              "  background-color: var(--sklearn-color-fitted-level-2);\n",
              "}\n",
              "\n",
              "/* Estimator label */\n",
              "\n",
              "#sk-container-id-1 div.sk-label label {\n",
              "  font-family: monospace;\n",
              "  font-weight: bold;\n",
              "  display: inline-block;\n",
              "  line-height: 1.2em;\n",
              "}\n",
              "\n",
              "#sk-container-id-1 div.sk-label-container {\n",
              "  text-align: center;\n",
              "}\n",
              "\n",
              "/* Estimator-specific */\n",
              "#sk-container-id-1 div.sk-estimator {\n",
              "  font-family: monospace;\n",
              "  border: 1px dotted var(--sklearn-color-border-box);\n",
              "  border-radius: 0.25em;\n",
              "  box-sizing: border-box;\n",
              "  margin-bottom: 0.5em;\n",
              "  /* unfitted */\n",
              "  background-color: var(--sklearn-color-unfitted-level-0);\n",
              "}\n",
              "\n",
              "#sk-container-id-1 div.sk-estimator.fitted {\n",
              "  /* fitted */\n",
              "  background-color: var(--sklearn-color-fitted-level-0);\n",
              "}\n",
              "\n",
              "/* on hover */\n",
              "#sk-container-id-1 div.sk-estimator:hover {\n",
              "  /* unfitted */\n",
              "  background-color: var(--sklearn-color-unfitted-level-2);\n",
              "}\n",
              "\n",
              "#sk-container-id-1 div.sk-estimator.fitted:hover {\n",
              "  /* fitted */\n",
              "  background-color: var(--sklearn-color-fitted-level-2);\n",
              "}\n",
              "\n",
              "/* Specification for estimator info (e.g. \"i\" and \"?\") */\n",
              "\n",
              "/* Common style for \"i\" and \"?\" */\n",
              "\n",
              ".sk-estimator-doc-link,\n",
              "a:link.sk-estimator-doc-link,\n",
              "a:visited.sk-estimator-doc-link {\n",
              "  float: right;\n",
              "  font-size: smaller;\n",
              "  line-height: 1em;\n",
              "  font-family: monospace;\n",
              "  background-color: var(--sklearn-color-background);\n",
              "  border-radius: 1em;\n",
              "  height: 1em;\n",
              "  width: 1em;\n",
              "  text-decoration: none !important;\n",
              "  margin-left: 0.5em;\n",
              "  text-align: center;\n",
              "  /* unfitted */\n",
              "  border: var(--sklearn-color-unfitted-level-1) 1pt solid;\n",
              "  color: var(--sklearn-color-unfitted-level-1);\n",
              "}\n",
              "\n",
              ".sk-estimator-doc-link.fitted,\n",
              "a:link.sk-estimator-doc-link.fitted,\n",
              "a:visited.sk-estimator-doc-link.fitted {\n",
              "  /* fitted */\n",
              "  border: var(--sklearn-color-fitted-level-1) 1pt solid;\n",
              "  color: var(--sklearn-color-fitted-level-1);\n",
              "}\n",
              "\n",
              "/* On hover */\n",
              "div.sk-estimator:hover .sk-estimator-doc-link:hover,\n",
              ".sk-estimator-doc-link:hover,\n",
              "div.sk-label-container:hover .sk-estimator-doc-link:hover,\n",
              ".sk-estimator-doc-link:hover {\n",
              "  /* unfitted */\n",
              "  background-color: var(--sklearn-color-unfitted-level-3);\n",
              "  color: var(--sklearn-color-background);\n",
              "  text-decoration: none;\n",
              "}\n",
              "\n",
              "div.sk-estimator.fitted:hover .sk-estimator-doc-link.fitted:hover,\n",
              ".sk-estimator-doc-link.fitted:hover,\n",
              "div.sk-label-container:hover .sk-estimator-doc-link.fitted:hover,\n",
              ".sk-estimator-doc-link.fitted:hover {\n",
              "  /* fitted */\n",
              "  background-color: var(--sklearn-color-fitted-level-3);\n",
              "  color: var(--sklearn-color-background);\n",
              "  text-decoration: none;\n",
              "}\n",
              "\n",
              "/* Span, style for the box shown on hovering the info icon */\n",
              ".sk-estimator-doc-link span {\n",
              "  display: none;\n",
              "  z-index: 9999;\n",
              "  position: relative;\n",
              "  font-weight: normal;\n",
              "  right: .2ex;\n",
              "  padding: .5ex;\n",
              "  margin: .5ex;\n",
              "  width: min-content;\n",
              "  min-width: 20ex;\n",
              "  max-width: 50ex;\n",
              "  color: var(--sklearn-color-text);\n",
              "  box-shadow: 2pt 2pt 4pt #999;\n",
              "  /* unfitted */\n",
              "  background: var(--sklearn-color-unfitted-level-0);\n",
              "  border: .5pt solid var(--sklearn-color-unfitted-level-3);\n",
              "}\n",
              "\n",
              ".sk-estimator-doc-link.fitted span {\n",
              "  /* fitted */\n",
              "  background: var(--sklearn-color-fitted-level-0);\n",
              "  border: var(--sklearn-color-fitted-level-3);\n",
              "}\n",
              "\n",
              ".sk-estimator-doc-link:hover span {\n",
              "  display: block;\n",
              "}\n",
              "\n",
              "/* \"?\"-specific style due to the `<a>` HTML tag */\n",
              "\n",
              "#sk-container-id-1 a.estimator_doc_link {\n",
              "  float: right;\n",
              "  font-size: 1rem;\n",
              "  line-height: 1em;\n",
              "  font-family: monospace;\n",
              "  background-color: var(--sklearn-color-background);\n",
              "  border-radius: 1rem;\n",
              "  height: 1rem;\n",
              "  width: 1rem;\n",
              "  text-decoration: none;\n",
              "  /* unfitted */\n",
              "  color: var(--sklearn-color-unfitted-level-1);\n",
              "  border: var(--sklearn-color-unfitted-level-1) 1pt solid;\n",
              "}\n",
              "\n",
              "#sk-container-id-1 a.estimator_doc_link.fitted {\n",
              "  /* fitted */\n",
              "  border: var(--sklearn-color-fitted-level-1) 1pt solid;\n",
              "  color: var(--sklearn-color-fitted-level-1);\n",
              "}\n",
              "\n",
              "/* On hover */\n",
              "#sk-container-id-1 a.estimator_doc_link:hover {\n",
              "  /* unfitted */\n",
              "  background-color: var(--sklearn-color-unfitted-level-3);\n",
              "  color: var(--sklearn-color-background);\n",
              "  text-decoration: none;\n",
              "}\n",
              "\n",
              "#sk-container-id-1 a.estimator_doc_link.fitted:hover {\n",
              "  /* fitted */\n",
              "  background-color: var(--sklearn-color-fitted-level-3);\n",
              "}\n",
              "</style><div id=\"sk-container-id-1\" class=\"sk-top-container\"><div class=\"sk-text-repr-fallback\"><pre>LinearRegression()</pre><b>In a Jupyter environment, please rerun this cell to show the HTML representation or trust the notebook. <br />On GitHub, the HTML representation is unable to render, please try loading this page with nbviewer.org.</b></div><div class=\"sk-container\" hidden><div class=\"sk-item\"><div class=\"sk-estimator fitted sk-toggleable\"><input class=\"sk-toggleable__control sk-hidden--visually\" id=\"sk-estimator-id-1\" type=\"checkbox\" checked><label for=\"sk-estimator-id-1\" class=\"sk-toggleable__label fitted sk-toggleable__label-arrow\"><div><div>LinearRegression</div></div><div><a class=\"sk-estimator-doc-link fitted\" rel=\"noreferrer\" target=\"_blank\" href=\"https://scikit-learn.org/1.6/modules/generated/sklearn.linear_model.LinearRegression.html\">?<span>Documentation for LinearRegression</span></a><span class=\"sk-estimator-doc-link fitted\">i<span>Fitted</span></span></div></label><div class=\"sk-toggleable__content fitted\"><pre>LinearRegression()</pre></div> </div></div></div></div>"
            ]
          },
          "metadata": {},
          "execution_count": 5
        }
      ]
    },
    {
      "cell_type": "code",
      "source": [
        "y_pred = model.predict(X_poly)\n",
        "y_pred"
      ],
      "metadata": {
        "colab": {
          "base_uri": "https://localhost:8080/"
        },
        "id": "TJ8Kb5VA0Pdr",
        "outputId": "a576400c-a69e-4ab5-c5b0-589b4bba4967"
      },
      "execution_count": 6,
      "outputs": [
        {
          "output_type": "execute_result",
          "data": {
            "text/plain": [
              "array([[  2.41408681],\n",
              "       [  2.95086019],\n",
              "       [  3.44776815],\n",
              "       [  3.9048107 ],\n",
              "       [  4.32198783],\n",
              "       [  4.69929954],\n",
              "       [  5.03674584],\n",
              "       [  5.33432672],\n",
              "       [  5.59204218],\n",
              "       [  5.80989223],\n",
              "       [  5.98787686],\n",
              "       [  6.12599608],\n",
              "       [  6.22424988],\n",
              "       [  6.28263826],\n",
              "       [  6.30116122],\n",
              "       [  6.27981878],\n",
              "       [  6.21861091],\n",
              "       [  6.11753763],\n",
              "       [  5.97659893],\n",
              "       [  5.79579481],\n",
              "       [  5.57512528],\n",
              "       [  5.31459034],\n",
              "       [  5.01418997],\n",
              "       [  4.67392419],\n",
              "       [  4.293793  ],\n",
              "       [  3.87379639],\n",
              "       [  3.41393436],\n",
              "       [  2.91420691],\n",
              "       [  2.37461405],\n",
              "       [  1.79515577],\n",
              "       [  1.17583208],\n",
              "       [  0.51664297],\n",
              "       [ -0.18241155],\n",
              "       [ -0.9213315 ],\n",
              "       [ -1.70011686],\n",
              "       [ -2.51876763],\n",
              "       [ -3.37728382],\n",
              "       [ -4.27566543],\n",
              "       [ -5.21391245],\n",
              "       [ -6.19202489],\n",
              "       [ -7.21000275],\n",
              "       [ -8.26784602],\n",
              "       [ -9.36555471],\n",
              "       [-10.50312881],\n",
              "       [-11.68056833],\n",
              "       [-12.89787327],\n",
              "       [-14.15504362],\n",
              "       [-15.45207939],\n",
              "       [-16.78898058],\n",
              "       [-18.16574718]])"
            ]
          },
          "metadata": {},
          "execution_count": 6
        }
      ]
    },
    {
      "cell_type": "code",
      "source": [
        "mse = mean_squared_error(y, y_pred)\n",
        "mse"
      ],
      "metadata": {
        "colab": {
          "base_uri": "https://localhost:8080/"
        },
        "id": "OpPYYdYn0RUm",
        "outputId": "a720054c-f0c2-4d14-c803-15dcad31fa78"
      },
      "execution_count": 7,
      "outputs": [
        {
          "output_type": "execute_result",
          "data": {
            "text/plain": [
              "0.7975730078536047"
            ]
          },
          "metadata": {},
          "execution_count": 7
        }
      ]
    },
    {
      "cell_type": "markdown",
      "source": [
        "# ***Graph Results***"
      ],
      "metadata": {
        "id": "bLQrDTemqxWh"
      }
    },
    {
      "cell_type": "code",
      "source": [
        "plt.scatter(X, y, color='blue', label=\"Original Data\")\n",
        "plt.plot(X, y_pred, color='red', label=\"Polynomial Regression Line\")\n",
        "plt.xlabel(\"X\")\n",
        "plt.ylabel(\"y\")\n",
        "plt.legend()\n",
        "plt.show()"
      ],
      "metadata": {
        "colab": {
          "base_uri": "https://localhost:8080/",
          "height": 449
        },
        "id": "c6mTM1h108Pg",
        "outputId": "86703dab-4772-4616-f785-aaaefed00909"
      },
      "execution_count": 8,
      "outputs": [
        {
          "output_type": "display_data",
          "data": {
            "text/plain": [
              "<Figure size 640x480 with 1 Axes>"
            ],
            "image/png": "[encoded data removed]"
          },
          "metadata": {}
        }
      ]
    },
    {
      "cell_type": "markdown",
      "source": [
        "## LAB 10\n"
      ],
      "metadata": {
        "id": "V1VbYpi41xDT"
      }
    },
    {
      "cell_type": "code",
      "source": [
        "import numpy as np\n",
        "import pandas as pd\n",
        "import matplotlib.pyplot as plt\n",
        "import seaborn as sns\n",
        "from sklearn.model_selection import train_test_split\n",
        "from sklearn.preprocessing import StandardScaler\n",
        "from sklearn.linear_model import LogisticRegression\n",
        "from sklearn.metrics import accuracy_score, confusion_matrix, classification_report\n",
        "from sklearn.datasets import load_iris"
      ],
      "metadata": {
        "id": "mS-RmQpc2IwY"
      },
      "execution_count": 10,
      "outputs": []
    },
    {
      "cell_type": "markdown",
      "source": [
        "## DataSet"
      ],
      "metadata": {
        "id": "jLn7x_CR2U1J"
      }
    },
    {
      "cell_type": "code",
      "source": [
        "iris = load_iris()\n",
        "X = iris.data[:, :2]\n",
        "y = (iris.target != 0) * 1"
      ],
      "metadata": {
        "id": "fwPHgTrQ2ZM2"
      },
      "execution_count": 11,
      "outputs": []
    },
    {
      "cell_type": "code",
      "source": [
        "y"
      ],
      "metadata": {
        "colab": {
          "base_uri": "https://localhost:8080/"
        },
        "id": "xioVwkUT2cAf",
        "outputId": "963e67a3-7410-4310-d185-7dc1d421e7b2"
      },
      "execution_count": 12,
      "outputs": [
        {
          "output_type": "execute_result",
          "data": {
            "text/plain": [
              "array([0, 0, 0, 0, 0, 0, 0, 0, 0, 0, 0, 0, 0, 0, 0, 0, 0, 0, 0, 0, 0, 0,\n",
              "       0, 0, 0, 0, 0, 0, 0, 0, 0, 0, 0, 0, 0, 0, 0, 0, 0, 0, 0, 0, 0, 0,\n",
              "       0, 0, 0, 0, 0, 0, 1, 1, 1, 1, 1, 1, 1, 1, 1, 1, 1, 1, 1, 1, 1, 1,\n",
              "       1, 1, 1, 1, 1, 1, 1, 1, 1, 1, 1, 1, 1, 1, 1, 1, 1, 1, 1, 1, 1, 1,\n",
              "       1, 1, 1, 1, 1, 1, 1, 1, 1, 1, 1, 1, 1, 1, 1, 1, 1, 1, 1, 1, 1, 1,\n",
              "       1, 1, 1, 1, 1, 1, 1, 1, 1, 1, 1, 1, 1, 1, 1, 1, 1, 1, 1, 1, 1, 1,\n",
              "       1, 1, 1, 1, 1, 1, 1, 1, 1, 1, 1, 1, 1, 1, 1, 1, 1, 1])"
            ]
          },
          "metadata": {},
          "execution_count": 12
        }
      ]
    },
    {
      "cell_type": "code",
      "source": [
        "X_train, X_test, y_train, y_test = train_test_split(X, y, test_size=0.2, random_state=42)"
      ],
      "metadata": {
        "id": "Qs-Esjuj2d2T"
      },
      "execution_count": 13,
      "outputs": []
    },
    {
      "cell_type": "code",
      "source": [
        "X_train"
      ],
      "metadata": {
        "colab": {
          "base_uri": "https://localhost:8080/"
        },
        "id": "HfLBF-ZO2iD2",
        "outputId": "dec37148-a861-4c0e-cf4c-eb06f33f2d5b"
      },
      "execution_count": 14,
      "outputs": [
        {
          "output_type": "execute_result",
          "data": {
            "text/plain": [
              "array([[4.6, 3.6],\n",
              "       [5.7, 4.4],\n",
              "       [6.7, 3.1],\n",
              "       [4.8, 3.4],\n",
              "       [4.4, 3.2],\n",
              "       [6.3, 2.5],\n",
              "       [6.4, 3.2],\n",
              "       [5.2, 3.5],\n",
              "       [5. , 3.6],\n",
              "       [5.2, 4.1],\n",
              "       [5.8, 2.7],\n",
              "       [6. , 3.4],\n",
              "       [6.7, 3.1],\n",
              "       [5.4, 3.9],\n",
              "       [5.4, 3.7],\n",
              "       [5.5, 2.4],\n",
              "       [6.3, 2.8],\n",
              "       [6.4, 3.1],\n",
              "       [6.6, 3. ],\n",
              "       [7.2, 3.6],\n",
              "       [5.7, 2.9],\n",
              "       [7.6, 3. ],\n",
              "       [5.6, 3. ],\n",
              "       [5.1, 3.5],\n",
              "       [7.7, 2.8],\n",
              "       [5.8, 2.7],\n",
              "       [5.2, 3.4],\n",
              "       [5. , 3.5],\n",
              "       [5.1, 3.8],\n",
              "       [5. , 2. ],\n",
              "       [6.3, 2.7],\n",
              "       [4.8, 3.4],\n",
              "       [5. , 3. ],\n",
              "       [5.1, 3.3],\n",
              "       [5.6, 2.7],\n",
              "       [5.1, 3.4],\n",
              "       [5.7, 3. ],\n",
              "       [7.7, 3.8],\n",
              "       [4.6, 3.2],\n",
              "       [6.2, 2.9],\n",
              "       [5.7, 2.5],\n",
              "       [5.5, 4.2],\n",
              "       [6. , 3. ],\n",
              "       [5.8, 2.7],\n",
              "       [6. , 2.2],\n",
              "       [5.4, 3. ],\n",
              "       [6.2, 3.4],\n",
              "       [5.5, 2.3],\n",
              "       [5.4, 3.9],\n",
              "       [5. , 2.3],\n",
              "       [6.4, 2.7],\n",
              "       [5. , 3.3],\n",
              "       [5. , 3.2],\n",
              "       [5.5, 2.4],\n",
              "       [6.7, 3. ],\n",
              "       [4.9, 3.1],\n",
              "       [5.8, 2.8],\n",
              "       [5. , 3.4],\n",
              "       [5. , 3.5],\n",
              "       [5.9, 3.2],\n",
              "       [5.1, 2.5],\n",
              "       [6.9, 3.2],\n",
              "       [6. , 2.7],\n",
              "       [6.1, 2.6],\n",
              "       [7.7, 3. ],\n",
              "       [5.5, 2.5],\n",
              "       [4.4, 2.9],\n",
              "       [4.3, 3. ],\n",
              "       [6. , 2.2],\n",
              "       [7.2, 3.2],\n",
              "       [4.6, 3.1],\n",
              "       [5.1, 3.5],\n",
              "       [4.4, 3. ],\n",
              "       [6.3, 2.5],\n",
              "       [6.3, 3.4],\n",
              "       [4.6, 3.4],\n",
              "       [6.8, 3. ],\n",
              "       [6.3, 3.3],\n",
              "       [4.7, 3.2],\n",
              "       [6.1, 2.9],\n",
              "       [6.5, 2.8],\n",
              "       [6.2, 2.8],\n",
              "       [7. , 3.2],\n",
              "       [6.4, 3.2],\n",
              "       [5.1, 3.8],\n",
              "       [6.9, 3.1],\n",
              "       [5.9, 3. ],\n",
              "       [6.5, 3. ],\n",
              "       [5.7, 2.6],\n",
              "       [5.2, 2.7],\n",
              "       [6.1, 3. ],\n",
              "       [4.5, 2.3],\n",
              "       [6.6, 2.9],\n",
              "       [5.5, 2.6],\n",
              "       [5.3, 3.7],\n",
              "       [5.6, 3. ],\n",
              "       [7.3, 2.9],\n",
              "       [6.7, 3.3],\n",
              "       [5.1, 3.7],\n",
              "       [4.9, 2.4],\n",
              "       [6.7, 3.3],\n",
              "       [7.2, 3. ],\n",
              "       [4.9, 3.6],\n",
              "       [6.7, 3.1],\n",
              "       [4.9, 3. ],\n",
              "       [6.9, 3.1],\n",
              "       [7.4, 2.8],\n",
              "       [6.3, 2.9],\n",
              "       [5.7, 2.8],\n",
              "       [6.5, 3. ],\n",
              "       [6.3, 2.3],\n",
              "       [6.4, 2.9],\n",
              "       [5.6, 2.8],\n",
              "       [5.9, 3. ],\n",
              "       [5.4, 3.4],\n",
              "       [6.1, 2.8],\n",
              "       [4.9, 2.5],\n",
              "       [5.8, 4. ],\n",
              "       [5.8, 2.6],\n",
              "       [7.1, 3. ]])"
            ]
          },
          "metadata": {},
          "execution_count": 14
        }
      ]
    },
    {
      "cell_type": "code",
      "source": [
        "X_test"
      ],
      "metadata": {
        "colab": {
          "base_uri": "https://localhost:8080/"
        },
        "id": "GPWiQiqv2n5g",
        "outputId": "ace1404d-afe3-4834-de78-0486aa028182"
      },
      "execution_count": 16,
      "outputs": [
        {
          "output_type": "execute_result",
          "data": {
            "text/plain": [
              "array([[6.1, 2.8],\n",
              "       [5.7, 3.8],\n",
              "       [7.7, 2.6],\n",
              "       [6. , 2.9],\n",
              "       [6.8, 2.8],\n",
              "       [5.4, 3.4],\n",
              "       [5.6, 2.9],\n",
              "       [6.9, 3.1],\n",
              "       [6.2, 2.2],\n",
              "       [5.8, 2.7],\n",
              "       [6.5, 3.2],\n",
              "       [4.8, 3. ],\n",
              "       [5.5, 3.5],\n",
              "       [4.9, 3.1],\n",
              "       [5.1, 3.8],\n",
              "       [6.3, 3.3],\n",
              "       [6.5, 3. ],\n",
              "       [5.6, 2.5],\n",
              "       [5.7, 2.8],\n",
              "       [6.4, 2.8],\n",
              "       [4.7, 3.2],\n",
              "       [6.1, 3. ],\n",
              "       [5. , 3.4],\n",
              "       [6.4, 2.8],\n",
              "       [7.9, 3.8],\n",
              "       [6.7, 3. ],\n",
              "       [6.7, 2.5],\n",
              "       [6.8, 3.2],\n",
              "       [4.8, 3. ],\n",
              "       [4.8, 3.1]])"
            ]
          },
          "metadata": {},
          "execution_count": 16
        }
      ]
    },
    {
      "cell_type": "code",
      "source": [
        "y_train"
      ],
      "metadata": {
        "colab": {
          "base_uri": "https://localhost:8080/"
        },
        "id": "xrB2Ljk92rtL",
        "outputId": "279c6171-41f7-42ec-b2c9-5fd94ca74f9d"
      },
      "execution_count": 17,
      "outputs": [
        {
          "output_type": "execute_result",
          "data": {
            "text/plain": [
              "array([0, 0, 1, 0, 0, 1, 1, 0, 0, 0, 1, 1, 1, 0, 0, 1, 1, 1, 1, 1, 1, 1,\n",
              "       1, 0, 1, 1, 0, 0, 0, 1, 1, 0, 0, 0, 1, 0, 1, 1, 0, 1, 1, 0, 1, 1,\n",
              "       1, 1, 1, 1, 0, 1, 1, 0, 0, 1, 1, 0, 1, 0, 0, 1, 1, 1, 1, 1, 1, 1,\n",
              "       0, 0, 1, 1, 0, 0, 0, 1, 1, 0, 1, 1, 0, 1, 1, 1, 1, 1, 0, 1, 1, 1,\n",
              "       1, 1, 1, 0, 1, 1, 0, 1, 1, 1, 0, 1, 1, 1, 0, 1, 0, 1, 1, 1, 1, 1,\n",
              "       1, 1, 1, 1, 0, 1, 1, 0, 1, 1])"
            ]
          },
          "metadata": {},
          "execution_count": 17
        }
      ]
    },
    {
      "cell_type": "code",
      "source": [
        "y_test"
      ],
      "metadata": {
        "colab": {
          "base_uri": "https://localhost:8080/"
        },
        "id": "ML5e_ow42vwQ",
        "outputId": "fee44a1a-3ad7-4a2d-9d55-00d4c350b229"
      },
      "execution_count": 18,
      "outputs": [
        {
          "output_type": "execute_result",
          "data": {
            "text/plain": [
              "array([1, 0, 1, 1, 1, 0, 1, 1, 1, 1, 1, 0, 0, 0, 0, 1, 1, 1, 1, 1, 0, 1,\n",
              "       0, 1, 1, 1, 1, 1, 0, 0])"
            ]
          },
          "metadata": {},
          "execution_count": 18
        }
      ]
    },
    {
      "cell_type": "markdown",
      "source": [
        "##Scaling"
      ],
      "metadata": {
        "id": "3GUzkMzo2zTQ"
      }
    },
    {
      "cell_type": "code",
      "source": [
        "scaler = StandardScaler()\n",
        "X_train_scaled = scaler.fit_transform(X_train)\n",
        "X_test_scaled = scaler.transform(X_test)"
      ],
      "metadata": {
        "id": "5sT8bJmx21z_"
      },
      "execution_count": 19,
      "outputs": []
    },
    {
      "cell_type": "code",
      "source": [
        "X_train_scaled"
      ],
      "metadata": {
        "colab": {
          "base_uri": "https://localhost:8080/"
        },
        "id": "rLeIClYF2xr-",
        "outputId": "095d92bf-62b1-4a4f-aea2-e0d9c90701bf"
      },
      "execution_count": 21,
      "outputs": [
        {
          "output_type": "execute_result",
          "data": {
            "text/plain": [
              "array([[-1.47393679,  1.20365799],\n",
              "       [-0.13307079,  2.99237573],\n",
              "       [ 1.08589829,  0.08570939],\n",
              "       [-1.23014297,  0.75647855],\n",
              "       [-1.7177306 ,  0.30929911],\n",
              "       [ 0.59831066, -1.25582892],\n",
              "       [ 0.72020757,  0.30929911],\n",
              "       [-0.74255534,  0.98006827],\n",
              "       [-0.98634915,  1.20365799],\n",
              "       [-0.74255534,  2.32160658],\n",
              "       [-0.01117388, -0.80864948],\n",
              "       [ 0.23261993,  0.75647855],\n",
              "       [ 1.08589829,  0.08570939],\n",
              "       [-0.49876152,  1.87442714],\n",
              "       [-0.49876152,  1.4272477 ],\n",
              "       [-0.37686461, -1.47941864],\n",
              "       [ 0.59831066, -0.58505976],\n",
              "       [ 0.72020757,  0.08570939],\n",
              "       [ 0.96400139, -0.13788033],\n",
              "       [ 1.69538284,  1.20365799],\n",
              "       [-0.13307079, -0.36147005],\n",
              "       [ 2.18297047, -0.13788033],\n",
              "       [-0.2549677 , -0.13788033],\n",
              "       [-0.86445224,  0.98006827],\n",
              "       [ 2.30486738, -0.58505976],\n",
              "       [-0.01117388, -0.80864948],\n",
              "       [-0.74255534,  0.75647855],\n",
              "       [-0.98634915,  0.98006827],\n",
              "       [-0.86445224,  1.65083742],\n",
              "       [-0.98634915, -2.37377751],\n",
              "       [ 0.59831066, -0.80864948],\n",
              "       [-1.23014297,  0.75647855],\n",
              "       [-0.98634915, -0.13788033],\n",
              "       [-0.86445224,  0.53288883],\n",
              "       [-0.2549677 , -0.80864948],\n",
              "       [-0.86445224,  0.75647855],\n",
              "       [-0.13307079, -0.13788033],\n",
              "       [ 2.30486738,  1.65083742],\n",
              "       [-1.47393679,  0.30929911],\n",
              "       [ 0.47641375, -0.36147005],\n",
              "       [-0.13307079, -1.25582892],\n",
              "       [-0.37686461,  2.5451963 ],\n",
              "       [ 0.23261993, -0.13788033],\n",
              "       [-0.01117388, -0.80864948],\n",
              "       [ 0.23261993, -1.92659808],\n",
              "       [-0.49876152, -0.13788033],\n",
              "       [ 0.47641375,  0.75647855],\n",
              "       [-0.37686461, -1.70300836],\n",
              "       [-0.49876152,  1.87442714],\n",
              "       [-0.98634915, -1.70300836],\n",
              "       [ 0.72020757, -0.80864948],\n",
              "       [-0.98634915,  0.53288883],\n",
              "       [-0.98634915,  0.30929911],\n",
              "       [-0.37686461, -1.47941864],\n",
              "       [ 1.08589829, -0.13788033],\n",
              "       [-1.10824606,  0.08570939],\n",
              "       [-0.01117388, -0.58505976],\n",
              "       [-0.98634915,  0.75647855],\n",
              "       [-0.98634915,  0.98006827],\n",
              "       [ 0.11072303,  0.30929911],\n",
              "       [-0.86445224, -1.25582892],\n",
              "       [ 1.32969211,  0.30929911],\n",
              "       [ 0.23261993, -0.80864948],\n",
              "       [ 0.35451684, -1.0322392 ],\n",
              "       [ 2.30486738, -0.13788033],\n",
              "       [-0.37686461, -1.25582892],\n",
              "       [-1.7177306 , -0.36147005],\n",
              "       [-1.83962751, -0.13788033],\n",
              "       [ 0.23261993, -1.92659808],\n",
              "       [ 1.69538284,  0.30929911],\n",
              "       [-1.47393679,  0.08570939],\n",
              "       [-0.86445224,  0.98006827],\n",
              "       [-1.7177306 , -0.13788033],\n",
              "       [ 0.59831066, -1.25582892],\n",
              "       [ 0.59831066,  0.75647855],\n",
              "       [-1.47393679,  0.75647855],\n",
              "       [ 1.2077952 , -0.13788033],\n",
              "       [ 0.59831066,  0.53288883],\n",
              "       [-1.35203988,  0.30929911],\n",
              "       [ 0.35451684, -0.36147005],\n",
              "       [ 0.84210448, -0.58505976],\n",
              "       [ 0.47641375, -0.58505976],\n",
              "       [ 1.45158902,  0.30929911],\n",
              "       [ 0.72020757,  0.30929911],\n",
              "       [-0.86445224,  1.65083742],\n",
              "       [ 1.32969211,  0.08570939],\n",
              "       [ 0.11072303, -0.13788033],\n",
              "       [ 0.84210448, -0.13788033],\n",
              "       [-0.13307079, -1.0322392 ],\n",
              "       [-0.74255534, -0.80864948],\n",
              "       [ 0.35451684, -0.13788033],\n",
              "       [-1.5958337 , -1.70300836],\n",
              "       [ 0.96400139, -0.36147005],\n",
              "       [-0.37686461, -1.0322392 ],\n",
              "       [-0.62065843,  1.4272477 ],\n",
              "       [-0.2549677 , -0.13788033],\n",
              "       [ 1.81727975, -0.36147005],\n",
              "       [ 1.08589829,  0.53288883],\n",
              "       [-0.86445224,  1.4272477 ],\n",
              "       [-1.10824606, -1.47941864],\n",
              "       [ 1.08589829,  0.53288883],\n",
              "       [ 1.69538284, -0.13788033],\n",
              "       [-1.10824606,  1.20365799],\n",
              "       [ 1.08589829,  0.08570939],\n",
              "       [-1.10824606, -0.13788033],\n",
              "       [ 1.32969211,  0.08570939],\n",
              "       [ 1.93917666, -0.58505976],\n",
              "       [ 0.59831066, -0.36147005],\n",
              "       [-0.13307079, -0.58505976],\n",
              "       [ 0.84210448, -0.13788033],\n",
              "       [ 0.59831066, -1.70300836],\n",
              "       [ 0.72020757, -0.36147005],\n",
              "       [-0.2549677 , -0.58505976],\n",
              "       [ 0.11072303, -0.13788033],\n",
              "       [-0.49876152,  0.75647855],\n",
              "       [ 0.35451684, -0.58505976],\n",
              "       [-1.10824606, -1.25582892],\n",
              "       [-0.01117388,  2.09801686],\n",
              "       [-0.01117388, -1.0322392 ],\n",
              "       [ 1.57348593, -0.13788033]])"
            ]
          },
          "metadata": {},
          "execution_count": 21
        }
      ]
    },
    {
      "cell_type": "code",
      "source": [
        "X_test_scaled"
      ],
      "metadata": {
        "colab": {
          "base_uri": "https://localhost:8080/"
        },
        "id": "jJYgga5M28cf",
        "outputId": "53714ef1-b128-4e1f-dba3-c98d2a68b0de"
      },
      "execution_count": 22,
      "outputs": [
        {
          "output_type": "execute_result",
          "data": {
            "text/plain": [
              "array([[ 0.35451684, -0.58505976],\n",
              "       [-0.13307079,  1.65083742],\n",
              "       [ 2.30486738, -1.0322392 ],\n",
              "       [ 0.23261993, -0.36147005],\n",
              "       [ 1.2077952 , -0.58505976],\n",
              "       [-0.49876152,  0.75647855],\n",
              "       [-0.2549677 , -0.36147005],\n",
              "       [ 1.32969211,  0.08570939],\n",
              "       [ 0.47641375, -1.92659808],\n",
              "       [-0.01117388, -0.80864948],\n",
              "       [ 0.84210448,  0.30929911],\n",
              "       [-1.23014297, -0.13788033],\n",
              "       [-0.37686461,  0.98006827],\n",
              "       [-1.10824606,  0.08570939],\n",
              "       [-0.86445224,  1.65083742],\n",
              "       [ 0.59831066,  0.53288883],\n",
              "       [ 0.84210448, -0.13788033],\n",
              "       [-0.2549677 , -1.25582892],\n",
              "       [-0.13307079, -0.58505976],\n",
              "       [ 0.72020757, -0.58505976],\n",
              "       [-1.35203988,  0.30929911],\n",
              "       [ 0.35451684, -0.13788033],\n",
              "       [-0.98634915,  0.75647855],\n",
              "       [ 0.72020757, -0.58505976],\n",
              "       [ 2.5486612 ,  1.65083742],\n",
              "       [ 1.08589829, -0.13788033],\n",
              "       [ 1.08589829, -1.25582892],\n",
              "       [ 1.2077952 ,  0.30929911],\n",
              "       [-1.23014297, -0.13788033],\n",
              "       [-1.23014297,  0.08570939]])"
            ]
          },
          "metadata": {},
          "execution_count": 22
        }
      ]
    },
    {
      "cell_type": "markdown",
      "source": [
        "## Train the Logistic Regression Model"
      ],
      "metadata": {
        "id": "ln2PdZ053CPX"
      }
    },
    {
      "cell_type": "code",
      "source": [
        "model = LogisticRegression()\n",
        "model.fit(X_train, y_train)"
      ],
      "metadata": {
        "colab": {
          "base_uri": "https://localhost:8080/",
          "height": 80
        },
        "id": "uTycPGjz3IjG",
        "outputId": "b335a334-f45f-499e-895d-e1d9b68252c2"
      },
      "execution_count": 23,
      "outputs": [
        {
          "output_type": "execute_result",
          "data": {
            "text/plain": [
              "LogisticRegression()"
            ],
            "text/html": [
              "<style>#sk-container-id-2 {\n",
              "  /* Definition of color scheme common for light and dark mode */\n",
              "  --sklearn-color-text: #000;\n",
              "  --sklearn-color-text-muted: #666;\n",
              "  --sklearn-color-line: gray;\n",
              "  /* Definition of color scheme for unfitted estimators */\n",
              "  --sklearn-color-unfitted-level-0: #fff5e6;\n",
              "  --sklearn-color-unfitted-level-1: #f6e4d2;\n",
              "  --sklearn-color-unfitted-level-2: #ffe0b3;\n",
              "  --sklearn-color-unfitted-level-3: chocolate;\n",
              "  /* Definition of color scheme for fitted estimators */\n",
              "  --sklearn-color-fitted-level-0: #f0f8ff;\n",
              "  --sklearn-color-fitted-level-1: #d4ebff;\n",
              "  --sklearn-color-fitted-level-2: #b3dbfd;\n",
              "  --sklearn-color-fitted-level-3: cornflowerblue;\n",
              "\n",
              "  /* Specific color for light theme */\n",
              "  --sklearn-color-text-on-default-background: var(--sg-text-color, var(--theme-code-foreground, var(--jp-content-font-color1, black)));\n",
              "  --sklearn-color-background: var(--sg-background-color, var(--theme-background, var(--jp-layout-color0, white)));\n",
              "  --sklearn-color-border-box: var(--sg-text-color, var(--theme-code-foreground, var(--jp-content-font-color1, black)));\n",
              "  --sklearn-color-icon: #696969;\n",
              "\n",
              "  @media (prefers-color-scheme: dark) {\n",
              "    /* Redefinition of color scheme for dark theme */\n",
              "    --sklearn-color-text-on-default-background: var(--sg-text-color, var(--theme-code-foreground, var(--jp-content-font-color1, white)));\n",
              "    --sklearn-color-background: var(--sg-background-color, var(--theme-background, var(--jp-layout-color0, #111)));\n",
              "    --sklearn-color-border-box: var(--sg-text-color, var(--theme-code-foreground, var(--jp-content-font-color1, white)));\n",
              "    --sklearn-color-icon: #878787;\n",
              "  }\n",
              "}\n",
              "\n",
              "#sk-container-id-2 {\n",
              "  color: var(--sklearn-color-text);\n",
              "}\n",
              "\n",
              "#sk-container-id-2 pre {\n",
              "  padding: 0;\n",
              "}\n",
              "\n",
              "#sk-container-id-2 input.sk-hidden--visually {\n",
              "  border: 0;\n",
              "  clip: rect(1px 1px 1px 1px);\n",
              "  clip: rect(1px, 1px, 1px, 1px);\n",
              "  height: 1px;\n",
              "  margin: -1px;\n",
              "  overflow: hidden;\n",
              "  padding: 0;\n",
              "  position: absolute;\n",
              "  width: 1px;\n",
              "}\n",
              "\n",
              "#sk-container-id-2 div.sk-dashed-wrapped {\n",
              "  border: 1px dashed var(--sklearn-color-line);\n",
              "  margin: 0 0.4em 0.5em 0.4em;\n",
              "  box-sizing: border-box;\n",
              "  padding-bottom: 0.4em;\n",
              "  background-color: var(--sklearn-color-background);\n",
              "}\n",
              "\n",
              "#sk-container-id-2 div.sk-container {\n",
              "  /* jupyter's `normalize.less` sets `[hidden] { display: none; }`\n",
              "     but bootstrap.min.css set `[hidden] { display: none !important; }`\n",
              "     so we also need the `!important` here to be able to override the\n",
              "     default hidden behavior on the sphinx rendered scikit-learn.org.\n",
              "     See: https://github.com/scikit-learn/scikit-learn/issues/21755 */\n",
              "  display: inline-block !important;\n",
              "  position: relative;\n",
              "}\n",
              "\n",
              "#sk-container-id-2 div.sk-text-repr-fallback {\n",
              "  display: none;\n",
              "}\n",
              "\n",
              "div.sk-parallel-item,\n",
              "div.sk-serial,\n",
              "div.sk-item {\n",
              "  /* draw centered vertical line to link estimators */\n",
              "  background-image: linear-gradient(var(--sklearn-color-text-on-default-background), var(--sklearn-color-text-on-default-background));\n",
              "  background-size: 2px 100%;\n",
              "  background-repeat: no-repeat;\n",
              "  background-position: center center;\n",
              "}\n",
              "\n",
              "/* Parallel-specific style estimator block */\n",
              "\n",
              "#sk-container-id-2 div.sk-parallel-item::after {\n",
              "  content: \"\";\n",
              "  width: 100%;\n",
              "  border-bottom: 2px solid var(--sklearn-color-text-on-default-background);\n",
              "  flex-grow: 1;\n",
              "}\n",
              "\n",
              "#sk-container-id-2 div.sk-parallel {\n",
              "  display: flex;\n",
              "  align-items: stretch;\n",
              "  justify-content: center;\n",
              "  background-color: var(--sklearn-color-background);\n",
              "  position: relative;\n",
              "}\n",
              "\n",
              "#sk-container-id-2 div.sk-parallel-item {\n",
              "  display: flex;\n",
              "  flex-direction: column;\n",
              "}\n",
              "\n",
              "#sk-container-id-2 div.sk-parallel-item:first-child::after {\n",
              "  align-self: flex-end;\n",
              "  width: 50%;\n",
              "}\n",
              "\n",
              "#sk-container-id-2 div.sk-parallel-item:last-child::after {\n",
              "  align-self: flex-start;\n",
              "  width: 50%;\n",
              "}\n",
              "\n",
              "#sk-container-id-2 div.sk-parallel-item:only-child::after {\n",
              "  width: 0;\n",
              "}\n",
              "\n",
              "/* Serial-specific style estimator block */\n",
              "\n",
              "#sk-container-id-2 div.sk-serial {\n",
              "  display: flex;\n",
              "  flex-direction: column;\n",
              "  align-items: center;\n",
              "  background-color: var(--sklearn-color-background);\n",
              "  padding-right: 1em;\n",
              "  padding-left: 1em;\n",
              "}\n",
              "\n",
              "\n",
              "/* Toggleable style: style used for estimator/Pipeline/ColumnTransformer box that is\n",
              "clickable and can be expanded/collapsed.\n",
              "- Pipeline and ColumnTransformer use this feature and define the default style\n",
              "- Estimators will overwrite some part of the style using the `sk-estimator` class\n",
              "*/\n",
              "\n",
              "/* Pipeline and ColumnTransformer style (default) */\n",
              "\n",
              "#sk-container-id-2 div.sk-toggleable {\n",
              "  /* Default theme specific background. It is overwritten whether we have a\n",
              "  specific estimator or a Pipeline/ColumnTransformer */\n",
              "  background-color: var(--sklearn-color-background);\n",
              "}\n",
              "\n",
              "/* Toggleable label */\n",
              "#sk-container-id-2 label.sk-toggleable__label {\n",
              "  cursor: pointer;\n",
              "  display: flex;\n",
              "  width: 100%;\n",
              "  margin-bottom: 0;\n",
              "  padding: 0.5em;\n",
              "  box-sizing: border-box;\n",
              "  text-align: center;\n",
              "  align-items: start;\n",
              "  justify-content: space-between;\n",
              "  gap: 0.5em;\n",
              "}\n",
              "\n",
              "#sk-container-id-2 label.sk-toggleable__label .caption {\n",
              "  font-size: 0.6rem;\n",
              "  font-weight: lighter;\n",
              "  color: var(--sklearn-color-text-muted);\n",
              "}\n",
              "\n",
              "#sk-container-id-2 label.sk-toggleable__label-arrow:before {\n",
              "  /* Arrow on the left of the label */\n",
              "  content: \"▸\";\n",
              "  float: left;\n",
              "  margin-right: 0.25em;\n",
              "  color: var(--sklearn-color-icon);\n",
              "}\n",
              "\n",
              "#sk-container-id-2 label.sk-toggleable__label-arrow:hover:before {\n",
              "  color: var(--sklearn-color-text);\n",
              "}\n",
              "\n",
              "/* Toggleable content - dropdown */\n",
              "\n",
              "#sk-container-id-2 div.sk-toggleable__content {\n",
              "  max-height: 0;\n",
              "  max-width: 0;\n",
              "  overflow: hidden;\n",
              "  text-align: left;\n",
              "  /* unfitted */\n",
              "  background-color: var(--sklearn-color-unfitted-level-0);\n",
              "}\n",
              "\n",
              "#sk-container-id-2 div.sk-toggleable__content.fitted {\n",
              "  /* fitted */\n",
              "  background-color: var(--sklearn-color-fitted-level-0);\n",
              "}\n",
              "\n",
              "#sk-container-id-2 div.sk-toggleable__content pre {\n",
              "  margin: 0.2em;\n",
              "  border-radius: 0.25em;\n",
              "  color: var(--sklearn-color-text);\n",
              "  /* unfitted */\n",
              "  background-color: var(--sklearn-color-unfitted-level-0);\n",
              "}\n",
              "\n",
              "#sk-container-id-2 div.sk-toggleable__content.fitted pre {\n",
              "  /* unfitted */\n",
              "  background-color: var(--sklearn-color-fitted-level-0);\n",
              "}\n",
              "\n",
              "#sk-container-id-2 input.sk-toggleable__control:checked~div.sk-toggleable__content {\n",
              "  /* Expand drop-down */\n",
              "  max-height: 200px;\n",
              "  max-width: 100%;\n",
              "  overflow: auto;\n",
              "}\n",
              "\n",
              "#sk-container-id-2 input.sk-toggleable__control:checked~label.sk-toggleable__label-arrow:before {\n",
              "  content: \"▾\";\n",
              "}\n",
              "\n",
              "/* Pipeline/ColumnTransformer-specific style */\n",
              "\n",
              "#sk-container-id-2 div.sk-label input.sk-toggleable__control:checked~label.sk-toggleable__label {\n",
              "  color: var(--sklearn-color-text);\n",
              "  background-color: var(--sklearn-color-unfitted-level-2);\n",
              "}\n",
              "\n",
              "#sk-container-id-2 div.sk-label.fitted input.sk-toggleable__control:checked~label.sk-toggleable__label {\n",
              "  background-color: var(--sklearn-color-fitted-level-2);\n",
              "}\n",
              "\n",
              "/* Estimator-specific style */\n",
              "\n",
              "/* Colorize estimator box */\n",
              "#sk-container-id-2 div.sk-estimator input.sk-toggleable__control:checked~label.sk-toggleable__label {\n",
              "  /* unfitted */\n",
              "  background-color: var(--sklearn-color-unfitted-level-2);\n",
              "}\n",
              "\n",
              "#sk-container-id-2 div.sk-estimator.fitted input.sk-toggleable__control:checked~label.sk-toggleable__label {\n",
              "  /* fitted */\n",
              "  background-color: var(--sklearn-color-fitted-level-2);\n",
              "}\n",
              "\n",
              "#sk-container-id-2 div.sk-label label.sk-toggleable__label,\n",
              "#sk-container-id-2 div.sk-label label {\n",
              "  /* The background is the default theme color */\n",
              "  color: var(--sklearn-color-text-on-default-background);\n",
              "}\n",
              "\n",
              "/* On hover, darken the color of the background */\n",
              "#sk-container-id-2 div.sk-label:hover label.sk-toggleable__label {\n",
              "  color: var(--sklearn-color-text);\n",
              "  background-color: var(--sklearn-color-unfitted-level-2);\n",
              "}\n",
              "\n",
              "/* Label box, darken color on hover, fitted */\n",
              "#sk-container-id-2 div.sk-label.fitted:hover label.sk-toggleable__label.fitted {\n",
              "  color: var(--sklearn-color-text);\n",
              "  background-color: var(--sklearn-color-fitted-level-2);\n",
              "}\n",
              "\n",
              "/* Estimator label */\n",
              "\n",
              "#sk-container-id-2 div.sk-label label {\n",
              "  font-family: monospace;\n",
              "  font-weight: bold;\n",
              "  display: inline-block;\n",
              "  line-height: 1.2em;\n",
              "}\n",
              "\n",
              "#sk-container-id-2 div.sk-label-container {\n",
              "  text-align: center;\n",
              "}\n",
              "\n",
              "/* Estimator-specific */\n",
              "#sk-container-id-2 div.sk-estimator {\n",
              "  font-family: monospace;\n",
              "  border: 1px dotted var(--sklearn-color-border-box);\n",
              "  border-radius: 0.25em;\n",
              "  box-sizing: border-box;\n",
              "  margin-bottom: 0.5em;\n",
              "  /* unfitted */\n",
              "  background-color: var(--sklearn-color-unfitted-level-0);\n",
              "}\n",
              "\n",
              "#sk-container-id-2 div.sk-estimator.fitted {\n",
              "  /* fitted */\n",
              "  background-color: var(--sklearn-color-fitted-level-0);\n",
              "}\n",
              "\n",
              "/* on hover */\n",
              "#sk-container-id-2 div.sk-estimator:hover {\n",
              "  /* unfitted */\n",
              "  background-color: var(--sklearn-color-unfitted-level-2);\n",
              "}\n",
              "\n",
              "#sk-container-id-2 div.sk-estimator.fitted:hover {\n",
              "  /* fitted */\n",
              "  background-color: var(--sklearn-color-fitted-level-2);\n",
              "}\n",
              "\n",
              "/* Specification for estimator info (e.g. \"i\" and \"?\") */\n",
              "\n",
              "/* Common style for \"i\" and \"?\" */\n",
              "\n",
              ".sk-estimator-doc-link,\n",
              "a:link.sk-estimator-doc-link,\n",
              "a:visited.sk-estimator-doc-link {\n",
              "  float: right;\n",
              "  font-size: smaller;\n",
              "  line-height: 1em;\n",
              "  font-family: monospace;\n",
              "  background-color: var(--sklearn-color-background);\n",
              "  border-radius: 1em;\n",
              "  height: 1em;\n",
              "  width: 1em;\n",
              "  text-decoration: none !important;\n",
              "  margin-left: 0.5em;\n",
              "  text-align: center;\n",
              "  /* unfitted */\n",
              "  border: var(--sklearn-color-unfitted-level-1) 1pt solid;\n",
              "  color: var(--sklearn-color-unfitted-level-1);\n",
              "}\n",
              "\n",
              ".sk-estimator-doc-link.fitted,\n",
              "a:link.sk-estimator-doc-link.fitted,\n",
              "a:visited.sk-estimator-doc-link.fitted {\n",
              "  /* fitted */\n",
              "  border: var(--sklearn-color-fitted-level-1) 1pt solid;\n",
              "  color: var(--sklearn-color-fitted-level-1);\n",
              "}\n",
              "\n",
              "/* On hover */\n",
              "div.sk-estimator:hover .sk-estimator-doc-link:hover,\n",
              ".sk-estimator-doc-link:hover,\n",
              "div.sk-label-container:hover .sk-estimator-doc-link:hover,\n",
              ".sk-estimator-doc-link:hover {\n",
              "  /* unfitted */\n",
              "  background-color: var(--sklearn-color-unfitted-level-3);\n",
              "  color: var(--sklearn-color-background);\n",
              "  text-decoration: none;\n",
              "}\n",
              "\n",
              "div.sk-estimator.fitted:hover .sk-estimator-doc-link.fitted:hover,\n",
              ".sk-estimator-doc-link.fitted:hover,\n",
              "div.sk-label-container:hover .sk-estimator-doc-link.fitted:hover,\n",
              ".sk-estimator-doc-link.fitted:hover {\n",
              "  /* fitted */\n",
              "  background-color: var(--sklearn-color-fitted-level-3);\n",
              "  color: var(--sklearn-color-background);\n",
              "  text-decoration: none;\n",
              "}\n",
              "\n",
              "/* Span, style for the box shown on hovering the info icon */\n",
              ".sk-estimator-doc-link span {\n",
              "  display: none;\n",
              "  z-index: 9999;\n",
              "  position: relative;\n",
              "  font-weight: normal;\n",
              "  right: .2ex;\n",
              "  padding: .5ex;\n",
              "  margin: .5ex;\n",
              "  width: min-content;\n",
              "  min-width: 20ex;\n",
              "  max-width: 50ex;\n",
              "  color: var(--sklearn-color-text);\n",
              "  box-shadow: 2pt 2pt 4pt #999;\n",
              "  /* unfitted */\n",
              "  background: var(--sklearn-color-unfitted-level-0);\n",
              "  border: .5pt solid var(--sklearn-color-unfitted-level-3);\n",
              "}\n",
              "\n",
              ".sk-estimator-doc-link.fitted span {\n",
              "  /* fitted */\n",
              "  background: var(--sklearn-color-fitted-level-0);\n",
              "  border: var(--sklearn-color-fitted-level-3);\n",
              "}\n",
              "\n",
              ".sk-estimator-doc-link:hover span {\n",
              "  display: block;\n",
              "}\n",
              "\n",
              "/* \"?\"-specific style due to the `<a>` HTML tag */\n",
              "\n",
              "#sk-container-id-2 a.estimator_doc_link {\n",
              "  float: right;\n",
              "  font-size: 1rem;\n",
              "  line-height: 1em;\n",
              "  font-family: monospace;\n",
              "  background-color: var(--sklearn-color-background);\n",
              "  border-radius: 1rem;\n",
              "  height: 1rem;\n",
              "  width: 1rem;\n",
              "  text-decoration: none;\n",
              "  /* unfitted */\n",
              "  color: var(--sklearn-color-unfitted-level-1);\n",
              "  border: var(--sklearn-color-unfitted-level-1) 1pt solid;\n",
              "}\n",
              "\n",
              "#sk-container-id-2 a.estimator_doc_link.fitted {\n",
              "  /* fitted */\n",
              "  border: var(--sklearn-color-fitted-level-1) 1pt solid;\n",
              "  color: var(--sklearn-color-fitted-level-1);\n",
              "}\n",
              "\n",
              "/* On hover */\n",
              "#sk-container-id-2 a.estimator_doc_link:hover {\n",
              "  /* unfitted */\n",
              "  background-color: var(--sklearn-color-unfitted-level-3);\n",
              "  color: var(--sklearn-color-background);\n",
              "  text-decoration: none;\n",
              "}\n",
              "\n",
              "#sk-container-id-2 a.estimator_doc_link.fitted:hover {\n",
              "  /* fitted */\n",
              "  background-color: var(--sklearn-color-fitted-level-3);\n",
              "}\n",
              "</style><div id=\"sk-container-id-2\" class=\"sk-top-container\"><div class=\"sk-text-repr-fallback\"><pre>LogisticRegression()</pre><b>In a Jupyter environment, please rerun this cell to show the HTML representation or trust the notebook. <br />On GitHub, the HTML representation is unable to render, please try loading this page with nbviewer.org.</b></div><div class=\"sk-container\" hidden><div class=\"sk-item\"><div class=\"sk-estimator fitted sk-toggleable\"><input class=\"sk-toggleable__control sk-hidden--visually\" id=\"sk-estimator-id-2\" type=\"checkbox\" checked><label for=\"sk-estimator-id-2\" class=\"sk-toggleable__label fitted sk-toggleable__label-arrow\"><div><div>LogisticRegression</div></div><div><a class=\"sk-estimator-doc-link fitted\" rel=\"noreferrer\" target=\"_blank\" href=\"https://scikit-learn.org/1.6/modules/generated/sklearn.linear_model.LogisticRegression.html\">?<span>Documentation for LogisticRegression</span></a><span class=\"sk-estimator-doc-link fitted\">i<span>Fitted</span></span></div></label><div class=\"sk-toggleable__content fitted\"><pre>LogisticRegression()</pre></div> </div></div></div></div>"
            ]
          },
          "metadata": {},
          "execution_count": 23
        }
      ]
    },
    {
      "cell_type": "markdown",
      "source": [
        "##Making Predictions"
      ],
      "metadata": {
        "id": "Of39C3fI3MAh"
      }
    },
    {
      "cell_type": "code",
      "source": [
        "y_pred = model.predict(X_test)\n",
        "y_pred"
      ],
      "metadata": {
        "colab": {
          "base_uri": "https://localhost:8080/"
        },
        "id": "GNMS_uln3KsV",
        "outputId": "c5274147-0dc0-4335-b12f-e532956b5a47"
      },
      "execution_count": 24,
      "outputs": [
        {
          "output_type": "execute_result",
          "data": {
            "text/plain": [
              "array([1, 0, 1, 1, 1, 0, 1, 1, 1, 1, 1, 0, 0, 0, 0, 1, 1, 1, 1, 1, 0, 1,\n",
              "       0, 1, 1, 1, 1, 1, 0, 0])"
            ]
          },
          "metadata": {},
          "execution_count": 24
        }
      ]
    },
    {
      "cell_type": "markdown",
      "source": [
        "##Evaluating the Model"
      ],
      "metadata": {
        "id": "HTJieMmU3VN3"
      }
    },
    {
      "cell_type": "code",
      "source": [
        "accuracy = accuracy_score(y_test, y_pred)\n",
        "conf_matrix = confusion_matrix(y_test, y_pred)\n",
        "report = classification_report(y_test, y_pred)"
      ],
      "metadata": {
        "id": "xLKEqQJy3RYs"
      },
      "execution_count": 32,
      "outputs": []
    },
    {
      "cell_type": "code",
      "source": [
        "conf_matrix"
      ],
      "metadata": {
        "colab": {
          "base_uri": "https://localhost:8080/"
        },
        "id": "gBiaxLN33ZJ6",
        "outputId": "f18255fb-8351-4291-a30e-cdbf1fa99441"
      },
      "execution_count": 26,
      "outputs": [
        {
          "output_type": "execute_result",
          "data": {
            "text/plain": [
              "array([[10,  0],\n",
              "       [ 0, 20]])"
            ]
          },
          "metadata": {},
          "execution_count": 26
        }
      ]
    },
    {
      "cell_type": "code",
      "source": [
        "print(report)"
      ],
      "metadata": {
        "colab": {
          "base_uri": "https://localhost:8080/"
        },
        "id": "kFpl7Q5i3c9K",
        "outputId": "1fd21b6b-e8e1-41bc-9d65-889ad59283cb"
      },
      "execution_count": 27,
      "outputs": [
        {
          "output_type": "stream",
          "name": "stdout",
          "text": [
            "              precision    recall  f1-score   support\n",
            "\n",
            "           0       1.00      1.00      1.00        10\n",
            "           1       1.00      1.00      1.00        20\n",
            "\n",
            "    accuracy                           1.00        30\n",
            "   macro avg       1.00      1.00      1.00        30\n",
            "weighted avg       1.00      1.00      1.00        30\n",
            "\n"
          ]
        }
      ]
    },
    {
      "cell_type": "code",
      "source": [
        "accuracy"
      ],
      "metadata": {
        "colab": {
          "base_uri": "https://localhost:8080/"
        },
        "id": "BYXcTVgx3fMZ",
        "outputId": "e557f4e1-dff1-4541-8809-0d592abe5380"
      },
      "execution_count": 28,
      "outputs": [
        {
          "output_type": "execute_result",
          "data": {
            "text/plain": [
              "1.0"
            ]
          },
          "metadata": {},
          "execution_count": 28
        }
      ]
    },
    {
      "cell_type": "code",
      "source": [
        "print(conf_matrix)"
      ],
      "metadata": {
        "colab": {
          "base_uri": "https://localhost:8080/"
        },
        "id": "NerNWjRs3hdt",
        "outputId": "57bd5d9e-4d30-4b5f-dffa-5eeb69f73026"
      },
      "execution_count": 29,
      "outputs": [
        {
          "output_type": "stream",
          "name": "stdout",
          "text": [
            "[[10  0]\n",
            " [ 0 20]]\n"
          ]
        }
      ]
    },
    {
      "cell_type": "code",
      "source": [
        "print(report)"
      ],
      "metadata": {
        "colab": {
          "base_uri": "https://localhost:8080/"
        },
        "id": "fRYANTH03juo",
        "outputId": "1e68186d-39fa-4638-f895-decd99377530"
      },
      "execution_count": 30,
      "outputs": [
        {
          "output_type": "stream",
          "name": "stdout",
          "text": [
            "              precision    recall  f1-score   support\n",
            "\n",
            "           0       1.00      1.00      1.00        10\n",
            "           1       1.00      1.00      1.00        20\n",
            "\n",
            "    accuracy                           1.00        30\n",
            "   macro avg       1.00      1.00      1.00        30\n",
            "weighted avg       1.00      1.00      1.00        30\n",
            "\n"
          ]
        }
      ]
    },
    {
      "cell_type": "code",
      "source": [
        "plt.figure(figsize=(8, 6))\n",
        "sns.scatterplot(x=X_train[:, 0], y=X_train[:, 1], hue=y_train, style=y_train)\n",
        "x_min, x_max = X_train[:, 0].min() - 1, X_train[:, 0].max() + 1\n",
        "y_min, y_max = X_train[:, 1].min() - 1, X_train[:, 1].max() + 1\n",
        "xx, yy = np.meshgrid(np.linspace(x_min, x_max, 100), np.linspace(y_min, y_max, 100))\n",
        "Z = model.predict(np.c_[xx.ravel(), yy.ravel()]).reshape(xx.shape)\n",
        "plt.contourf(xx, yy, Z, alpha=0.3)\n",
        "plt.xlabel('Feature 1')\n",
        "plt.ylabel('Feature 2')\n",
        "plt.title('Decision Boundary of Logistic Regression')"
      ],
      "metadata": {
        "colab": {
          "base_uri": "https://localhost:8080/",
          "height": 581
        },
        "id": "BCnLhh_h3l_h",
        "outputId": "95aea457-b529-4b70-fec9-8c35bc5408d4"
      },
      "execution_count": 31,
      "outputs": [
        {
          "output_type": "execute_result",
          "data": {
            "text/plain": [
              "Text(0.5, 1.0, 'Decision Boundary of Logistic Regression')"
            ]
          },
          "metadata": {},
          "execution_count": 31
        },
        {
          "output_type": "display_data",
          "data": {
            "text/plain": [
              "<Figure size 800x600 with 1 Axes>"
            ],
            "image/png": "[encoded data removed]"
          },
          "metadata": {}
        }
      ]
    }
  ]
}